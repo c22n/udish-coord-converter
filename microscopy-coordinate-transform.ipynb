{
 "cells": [
  {
   "cell_type": "markdown",
   "metadata": {},
   "source": [
    "# Microscopy coordinate transform"
   ]
  },
  {
   "cell_type": "markdown",
   "metadata": {},
   "source": [
    "This is a Jupyter notebook - shaded cells show Python code that should be run as working through the procedure. They can be run by **clicking inside the cell** with the pointer and typing **Shift+Enter**."
   ]
  },
  {
   "cell_type": "markdown",
   "metadata": {},
   "source": [
    "## Procedure"
   ]
  },
  {
   "cell_type": "markdown",
   "metadata": {},
   "source": [
    "1. First set the zero location on the microscopy software to the first reference mark."
   ]
  },
  {
   "cell_type": "markdown",
   "metadata": {},
   "source": [
    "2. Now enter the second reference mark into the variable ```ref1``` below."
   ]
  },
  {
   "cell_type": "code",
   "execution_count": 3,
   "metadata": {},
   "outputs": [],
   "source": [
    "ref1 = [3, 0] # change (3, 0) to your coordinates"
   ]
  },
  {
   "cell_type": "markdown",
   "metadata": {},
   "source": [
    "3. Carry out your experiment protocol, recording the coordinates of each recording in the array ```locs1``` below."
   ]
  },
  {
   "cell_type": "code",
   "execution_count": 7,
   "metadata": {},
   "outputs": [],
   "source": [
    "locs1 = [[ 0.1,  0.5],\n",
    "         [ 0.2,  0.6],\n",
    "         [-0.2, -0.3]] # you can also add more rows if required"
   ]
  },
  {
   "cell_type": "markdown",
   "metadata": {},
   "source": [
    "4. In the second recording session, again zero to the same first reference point."
   ]
  },
  {
   "cell_type": "markdown",
   "metadata": {},
   "source": [
    "5. Enter the second reference mark coordinates into the variable ```ref2``` below."
   ]
  },
  {
   "cell_type": "code",
   "execution_count": 11,
   "metadata": {},
   "outputs": [],
   "source": [
    "ref2 = [2.7716, -1.1481]"
   ]
  },
  {
   "cell_type": "code",
   "execution_count": 40,
   "metadata": {},
   "outputs": [
    {
     "name": "stdout",
     "output_type": "stream",
     "text": [
      "The dish has been rotated 22.501 degrees.\n"
     ]
    }
   ],
   "source": [
    "# Run this cell to calculate rotation angle\n",
    "import transform_functions as tf\n",
    "theta = tf.calculate_rotation(ref1, ref2)\n",
    "print('The dish has been rotated %.3f degrees.' % np.rad2deg(theta))"
   ]
  },
  {
   "cell_type": "markdown",
   "metadata": {},
   "source": [
    "Now run the cell below to convert all the coordinate locations into their new coordinate system."
   ]
  },
  {
   "cell_type": "code",
   "execution_count": 67,
   "metadata": {},
   "outputs": [
    {
     "name": "stdout",
     "output_type": "stream",
     "text": [
      "The transformed coordinates are:\n",
      "[[ 0.28373824  0.42366568]\n",
      " [ 0.41439563  0.47778265]\n",
      " [-0.29958499 -0.20062111]]\n"
     ]
    }
   ],
   "source": [
    "# Run this cell to convert coordinates\n",
    "locs1 = np.array(locs1)\n",
    "locs2 = np.zeros(locs1.shape)\n",
    "for i, pt in enumerate(locs1):\n",
    "    locs2[i,:] = rotate_pt(pt,theta)\n",
    "print('The transformed coordinates are:')\n",
    "print(locs2)"
   ]
  },
  {
   "cell_type": "code",
   "execution_count": null,
   "metadata": {},
   "outputs": [],
   "source": []
  }
 ],
 "metadata": {
  "kernelspec": {
   "display_name": "Python 3",
   "language": "python",
   "name": "python3"
  },
  "language_info": {
   "codemirror_mode": {
    "name": "ipython",
    "version": 3
   },
   "file_extension": ".py",
   "mimetype": "text/x-python",
   "name": "python",
   "nbconvert_exporter": "python",
   "pygments_lexer": "ipython3",
   "version": "3.7.3"
  }
 },
 "nbformat": 4,
 "nbformat_minor": 2
}
